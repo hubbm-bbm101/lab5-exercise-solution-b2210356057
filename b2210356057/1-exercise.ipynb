N = int(input('Enter a number '))

sum_of_odds = 0
sum_of_evens = 0
how_many_evens = 0
for x in range(1, N+1):
    if x % 2 == 1:
        sum_of_odds = sum_of_odds + x
        
    else:
        sum_of_evens = sum_of_evens + x
        how_many_evens = how_many_evens + 1

average_of_evens = sum_of_evens / how_many_evens
print('sum_of_odds:',sum_of_odds)
print('average_of_evens:', average_of_evens)